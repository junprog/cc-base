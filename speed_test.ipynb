{
 "cells": [
  {
   "cell_type": "code",
   "execution_count": null,
   "metadata": {},
   "outputs": [],
   "source": [
    "import time\n",
    "\n",
    "import torch\n",
    "\n",
    "from models.resnet import ResNet\n",
    "from models.bagnet import BagNet\n",
    "from models.fusion_model import BagResNet"
   ]
  },
  {
   "cell_type": "code",
   "execution_count": null,
   "metadata": {},
   "outputs": [],
   "source": [
    "inputs = torch.rand(1, 3, 512, 512).cuda()\n",
    "device = torch.device('cuda')"
   ]
  },
  {
   "cell_type": "code",
   "execution_count": null,
   "metadata": {},
   "outputs": [],
   "source": [
    "counter = ResNet(arch='resnet50', pool_num=5, up_scale=1)\n",
    "\n",
    "counter.to(device)\n",
    "counter.eval()\n",
    "\n",
    "sum_time = 0\n",
    "for i in range(100):\n",
    "    start = time.time()\n",
    "    out = counter(inputs)\n",
    "    proccess_time = time.time() - start\n",
    "    sum_time += proccess_time\n",
    "\n",
    "print('ResNet: ', sum_time / (i + 1), '[s]')"
   ]
  },
  {
   "cell_type": "code",
   "execution_count": null,
   "metadata": {},
   "outputs": [],
   "source": [
    "counter = BagNet(arch='bagnet33', pool_num=5, up_scale=1)\n",
    "\n",
    "counter.to(device)\n",
    "counter.eval()\n",
    "\n",
    "sum_time = 0\n",
    "for i in range(100):\n",
    "    start = time.time()\n",
    "    out = counter(inputs)\n",
    "    proccess_time = time.time() - start\n",
    "    sum_time += proccess_time\n",
    "\n",
    "print('BagNet: ', sum_time / (i + 1), '[s]')"
   ]
  },
  {
   "cell_type": "code",
   "execution_count": null,
   "metadata": {},
   "outputs": [],
   "source": [
    "counter = BagResNet(bag_arch='bagnet33', res_arch='resnet50', pool_num=5)\n",
    "\n",
    "counter.to(device)\n",
    "counter.eval()\n",
    "\n",
    "sum_time = 0\n",
    "for i in range(100):\n",
    "    start = time.time()\n",
    "    out = counter(inputs)\n",
    "    proccess_time = time.time() - start\n",
    "    sum_time += proccess_time\n",
    "\n",
    "print('RLGNet: ', sum_time / (i + 1), '[s]')"
   ]
  },
  {
   "cell_type": "code",
   "execution_count": null,
   "metadata": {},
   "outputs": [],
   "source": []
  }
 ],
 "metadata": {
  "interpreter": {
   "hash": "473cbe5fb64ad6b83afff416155d90e90e146c945e02d5029847b249d0b69f8e"
  },
  "kernelspec": {
   "display_name": "Python 3.6.7 64-bit ('shims': pyenv)",
   "name": "python3"
  },
  "language_info": {
   "codemirror_mode": {
    "name": "ipython",
    "version": 3
   },
   "file_extension": ".py",
   "mimetype": "text/x-python",
   "name": "python",
   "nbconvert_exporter": "python",
   "pygments_lexer": "ipython3",
   "version": "3.6.7"
  },
  "orig_nbformat": 4
 },
 "nbformat": 4,
 "nbformat_minor": 2
}
