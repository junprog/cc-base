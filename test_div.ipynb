{
 "cells": [
  {
   "cell_type": "code",
   "execution_count": null,
   "source": [
    "import numpy as np\n",
    "import torch\n",
    "\n",
    "from PIL import Image\n",
    "from matplotlib import pyplot as plt\n",
    "from torchvision import transforms\n",
    "from scipy.ndimage.filters import gaussian_filter\n",
    "\n",
    "from datasets.data_util import *\n",
    "from datasets.calc_scale import *\n",
    "\n",
    "mean = np.array([0.485, 0.456, 0.406])\n",
    "std = np.array([0.229, 0.224, 0.225])\n",
    "\n",
    "trans = transforms.Compose([\n",
    "    transforms.ToTensor(),\n",
    "    transforms.Normalize(mean=[0.485, 0.456, 0.406],std=[0.229, 0.224, 0.225])\n",
    "])\n",
    "\n",
    "def image_convert(img):\n",
    "    _, c, _, _ = img.size()\n",
    "    img = img.squeeze()\n",
    "    if c > 3:\n",
    "        img = img[0:3,:,:].to('cpu').detach().numpy().copy()\n",
    "    else:\n",
    "        img = img[:,:,:].to('cpu').detach().numpy().copy()\n",
    "\n",
    "    img = img.transpose(1,2,0)\n",
    "    img = img*std+mean\n",
    "\n",
    "    return img\n",
    "\n",
    "def density_convert(img):\n",
    "    img = img.squeeze()\n",
    "    img = img[:,:].to('cpu').detach().numpy().copy().squeeze()\n",
    "    return img\n",
    "\n",
    "def create_density(gt_map, sigma):\n",
    "    gt_map = np.array(gt_map)\n",
    "    density = gaussian_filter(gt_map, sigma)\n",
    "    density = Image.fromarray(density)\n",
    "    return density"
   ],
   "outputs": [],
   "metadata": {}
  },
  {
   "cell_type": "code",
   "execution_count": null,
   "source": [
    "in_size = (1024, 683)\n",
    "pool_num = 5\n",
    "up_scale = 1\n",
    "\n",
    "out_size = calc_out_size('resnet50', in_size, pool_num, up_scale)\n",
    "scale_factor = calc_scale_factor(in_size, out_size)\n",
    "print('output size: {}, scale factor: {}'.format(out_size, scale_factor))\n",
    "\n",
    "out_size = calc_out_size('bagnet33', in_size, pool_num, up_scale)\n",
    "scale_factor = calc_scale_factor(in_size, out_size)\n",
    "print('output size: {}, scale factor: {}'.format(out_size, scale_factor))\n",
    "\n",
    "out_size = calc_out_size('fusionnet', in_size, pool_num, up_scale)\n",
    "scale_factor = calc_scale_factor(in_size, out_size)\n",
    "print('output size: {}, scale factor: {}'.format(out_size, scale_factor))"
   ],
   "outputs": [],
   "metadata": {}
  },
  {
   "cell_type": "code",
   "execution_count": null,
   "source": [
    "## GT: 400\n",
    "image = Image.open('/mnt/hdd02/ShanghaiTech/part_A/test_data/images/IMG_179.jpg')\n",
    "density = create_density(mapping_gt(image.size, load_gt(gt_path=('/mnt/hdd02/ShanghaiTech/part_A/test_data/ground_truth/GT_IMG_179.mat'))), sigma=15)\n",
    "\n",
    "top = image.crop((0, 0, 1024, 342))\n",
    "bottom = image.crop((0, 342, 1024, 683))\n",
    "\n",
    "top_den = density.crop((0, 0, 1024, 342))\n",
    "bottom_den = density.crop((0, 342, 1024, 683))\n",
    "\n",
    "print(np.sum(top_den).sum(), np.sum(bottom_den).sum())\n",
    "\n",
    "plt.imshow(np.asarray(top_den), cmap='jet')\n",
    "plt.axis(\"off\")"
   ],
   "outputs": [],
   "metadata": {}
  },
  {
   "cell_type": "code",
   "execution_count": null,
   "source": [
    "## resnet50\n",
    "from models.resnet import ResNet\n",
    "resnet_partA_path = '/mnt/hdd02/res-bagnet/sta-resnet50-pretrained/best_model.pth' \n",
    "\n",
    "device = torch.device('cuda')\n",
    "model = ResNet(arch='resnet50', pool_num=5, up_scale=1)\n",
    "\n",
    "model.to(device)\n",
    "model.load_state_dict(torch.load(resnet_partA_path))\n",
    "model.eval()\n",
    "\n",
    "image = trans(image)\n",
    "image = image.unsqueeze(0).to(device)\n",
    "density = model(image)\n",
    "\n",
    "density = np.squeeze(density_convert(density))\n",
    "print(density.sum())\n",
    "plt.imshow(density, cmap='jet')\n",
    "plt.axis(\"off\")"
   ],
   "outputs": [],
   "metadata": {}
  },
  {
   "cell_type": "code",
   "execution_count": null,
   "source": [
    "top_den = density[0:11,:]\n",
    "bottom_den = density[11:,:]\n",
    "print(top_den.sum(), bottom_den.sum())"
   ],
   "outputs": [],
   "metadata": {}
  },
  {
   "cell_type": "code",
   "execution_count": null,
   "source": [
    "plt.imshow(top_den, cmap='jet')\n",
    "plt.axis(\"off\")"
   ],
   "outputs": [],
   "metadata": {}
  },
  {
   "cell_type": "code",
   "execution_count": null,
   "source": [
    "plt.imshow(bottom_den, cmap='jet')\n",
    "plt.axis(\"off\")"
   ],
   "outputs": [],
   "metadata": {}
  },
  {
   "cell_type": "code",
   "execution_count": null,
   "source": [
    "## bagnet33\n",
    "from models.bagnet import BagNet\n",
    "bagnet_partA_path = '/mnt/hdd02/res-bagnet/sta-bagnet33-pretrained/best_model.pth'\n",
    "\n",
    "device = torch.device('cuda')\n",
    "model = BagNet(arch='bagnet33', pool_num=5, up_scale=1)\n",
    "\n",
    "model.to(device)\n",
    "model.load_state_dict(torch.load(bagnet_partA_path))\n",
    "model.eval()\n",
    "\n",
    "image = trans(image)\n",
    "image = image.unsqueeze(0).to(device)\n",
    "density = model(image)\n",
    "\n",
    "density = np.squeeze(density_convert(density))\n",
    "print(density.sum())\n",
    "plt.imshow(density, cmap='jet')\n",
    "plt.axis(\"off\")"
   ],
   "outputs": [],
   "metadata": {}
  },
  {
   "cell_type": "code",
   "execution_count": null,
   "source": [
    "top_den = density[0:41,:]\n",
    "bottom_den = density[41:,:]\n",
    "print(top_den.sum(), bottom_den.sum())"
   ],
   "outputs": [],
   "metadata": {}
  },
  {
   "cell_type": "code",
   "execution_count": null,
   "source": [
    "plt.imshow(top_den, cmap='jet')\n",
    "plt.axis(\"off\")"
   ],
   "outputs": [],
   "metadata": {}
  },
  {
   "cell_type": "code",
   "execution_count": null,
   "source": [
    "plt.imshow(bottom_den, cmap='jet')\n",
    "plt.axis(\"off\")"
   ],
   "outputs": [],
   "metadata": {}
  },
  {
   "cell_type": "code",
   "execution_count": null,
   "source": [
    "## fusion net\n",
    "from models.fusion_model import BagResNet\n",
    "fusion_partA_path = '/mnt/hdd02/res-bagnet/sta-fusionnet-200ep/200_ckpt.tar'\n",
    "\n",
    "device = torch.device('cuda')\n",
    "model = BagResNet(bag_arch='bagnet33', res_arch='resnet50', pool_num=5)\n",
    "\n",
    "model.to(device)\n",
    "model.load_state_dict(torch.load(fusion_partA_path)['model_state_dict'])\n",
    "model.eval()\n",
    "\n",
    "image = trans(image)\n",
    "image = image.unsqueeze(0).to(device)\n",
    "density = model(image)\n",
    "\n",
    "density = np.squeeze(density_convert(density))\n",
    "print(density.sum())\n",
    "plt.imshow(density, cmap='jet')\n",
    "plt.axis(\"off\")"
   ],
   "outputs": [],
   "metadata": {}
  },
  {
   "cell_type": "code",
   "execution_count": null,
   "source": [
    "top_den = density[0:26,:]\n",
    "bottom_den = density[26:,:]\n",
    "print(top_den.sum(), bottom_den.sum())"
   ],
   "outputs": [],
   "metadata": {}
  },
  {
   "cell_type": "code",
   "execution_count": null,
   "source": [
    "plt.imshow(top_den, cmap='jet')\n",
    "plt.axis(\"off\")"
   ],
   "outputs": [],
   "metadata": {}
  },
  {
   "cell_type": "code",
   "execution_count": null,
   "source": [
    "plt.imshow(bottom_den, cmap='jet')\n",
    "plt.axis(\"off\")"
   ],
   "outputs": [],
   "metadata": {}
  },
  {
   "cell_type": "code",
   "execution_count": null,
   "source": [],
   "outputs": [],
   "metadata": {}
  }
 ],
 "metadata": {
  "orig_nbformat": 4,
  "language_info": {
   "name": "python",
   "version": "3.6.7",
   "mimetype": "text/x-python",
   "codemirror_mode": {
    "name": "ipython",
    "version": 3
   },
   "pygments_lexer": "ipython3",
   "nbconvert_exporter": "python",
   "file_extension": ".py"
  },
  "kernelspec": {
   "name": "python3",
   "display_name": "Python 3.6.7 64-bit ('3.6.7': pyenv)"
  },
  "interpreter": {
   "hash": "307a62cccf78bdb33403a88b9d807f43148f9c32eb68088ae7447765e5c8d3ef"
  }
 },
 "nbformat": 4,
 "nbformat_minor": 2
}