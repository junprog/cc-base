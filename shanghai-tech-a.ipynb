{
 "cells": [
  {
   "cell_type": "code",
   "execution_count": 4,
   "metadata": {},
   "outputs": [],
   "source": [
    "import os\n",
    "import glob\n",
    "\n",
    "import cv2\n",
    "from PIL import Image\n",
    "import numpy as np\n",
    "import pandas as pd\n",
    "import  matplotlib.pyplot as plt\n",
    "import seaborn as sns\n",
    "\n",
    "from datasets.data_util import *"
   ]
  },
  {
   "cell_type": "code",
   "execution_count": 12,
   "metadata": {},
   "outputs": [],
   "source": [
    "def plot_point(img: Image, points: np.ndarray) -> Image:\n",
    "    img = np.array(img, dtype=np.uint8)\n",
    "\n",
    "    for point in points:\n",
    "        co = (int(point[0]), int(point[1]))\n",
    "        cv2.drawMarker(img, co, (255, 255, 255), markerType=cv2.MARKER_CROSS, markerSize=2, thickness=2, line_type=cv2.LINE_4)\n",
    "\n",
    "    img = Image.fromarray(img)\n",
    "\n",
    "    return img"
   ]
  },
  {
   "cell_type": "code",
   "execution_count": 13,
   "metadata": {},
   "outputs": [],
   "source": [
    "# configure\n",
    "\n",
    "dataset_path = '/mnt/hdd02/ShanghaiTech/part_A'\n",
    "\n",
    "im_path = '/mnt/hdd02/ShanghaiTechRGBD/test_data/test_img/IMG_0000.png'\n",
    "bbox_path = '/mnt/hdd02/ShanghaiTechRGBD/test_data/test_bbox_anno/BBOX_0000.mat'\n",
    "\n",
    "img = Image.open(im_path)\n",
    "bbox = load_bbox(bbox_path)\n",
    "gt = bbox_to_point(bbox)\n",
    "\n",
    "out = plot_point(img, gt)"
   ]
  },
  {
   "cell_type": "code",
   "execution_count": 16,
   "metadata": {},
   "outputs": [],
   "source": [
    "tr_df = pd.DataFrame()\n",
    "\n",
    "\"\"\"\n",
    "tr_df:\n",
    "    image_path\n",
    "    width\n",
    "    height\n",
    "    people_num\n",
    "\"\"\"\n",
    "dataset_path = '/mnt/hdd02/ShanghaiTechRGBD'\n",
    "\n",
    "img_path_list = glob.glob( os.path.join(dataset_path, 'train_data', 'train_img', '*.png') )\n",
    "\n",
    "for i, img_path in enumerate(img_path_list):\n",
    "    img = Image.open(img_path)\n",
    "    w, h = img.size\n",
    "    \n",
    "    line = {\n",
    "        'image_path': img_path,\n",
    "        'width': w,\n",
    "        'height': h,\n",
    "    }\n",
    "\n",
    "    tr_df = tr_df.append(line, ignore_index=True)"
   ]
  },
  {
   "cell_type": "code",
   "execution_count": 19,
   "metadata": {},
   "outputs": [
    {
     "data": {
      "text/html": [
       "<div>\n",
       "<style scoped>\n",
       "    .dataframe tbody tr th:only-of-type {\n",
       "        vertical-align: middle;\n",
       "    }\n",
       "\n",
       "    .dataframe tbody tr th {\n",
       "        vertical-align: top;\n",
       "    }\n",
       "\n",
       "    .dataframe thead th {\n",
       "        text-align: right;\n",
       "    }\n",
       "</style>\n",
       "<table border=\"1\" class=\"dataframe\">\n",
       "  <thead>\n",
       "    <tr style=\"text-align: right;\">\n",
       "      <th></th>\n",
       "      <th>height</th>\n",
       "      <th>width</th>\n",
       "    </tr>\n",
       "  </thead>\n",
       "  <tbody>\n",
       "    <tr>\n",
       "      <th>count</th>\n",
       "      <td>1193.0</td>\n",
       "      <td>1193.0</td>\n",
       "    </tr>\n",
       "    <tr>\n",
       "      <th>mean</th>\n",
       "      <td>1080.0</td>\n",
       "      <td>1920.0</td>\n",
       "    </tr>\n",
       "    <tr>\n",
       "      <th>std</th>\n",
       "      <td>0.0</td>\n",
       "      <td>0.0</td>\n",
       "    </tr>\n",
       "    <tr>\n",
       "      <th>min</th>\n",
       "      <td>1080.0</td>\n",
       "      <td>1920.0</td>\n",
       "    </tr>\n",
       "    <tr>\n",
       "      <th>25%</th>\n",
       "      <td>1080.0</td>\n",
       "      <td>1920.0</td>\n",
       "    </tr>\n",
       "    <tr>\n",
       "      <th>50%</th>\n",
       "      <td>1080.0</td>\n",
       "      <td>1920.0</td>\n",
       "    </tr>\n",
       "    <tr>\n",
       "      <th>75%</th>\n",
       "      <td>1080.0</td>\n",
       "      <td>1920.0</td>\n",
       "    </tr>\n",
       "    <tr>\n",
       "      <th>max</th>\n",
       "      <td>1080.0</td>\n",
       "      <td>1920.0</td>\n",
       "    </tr>\n",
       "  </tbody>\n",
       "</table>\n",
       "</div>"
      ],
      "text/plain": [
       "       height   width\n",
       "count  1193.0  1193.0\n",
       "mean   1080.0  1920.0\n",
       "std       0.0     0.0\n",
       "min    1080.0  1920.0\n",
       "25%    1080.0  1920.0\n",
       "50%    1080.0  1920.0\n",
       "75%    1080.0  1920.0\n",
       "max    1080.0  1920.0"
      ]
     },
     "execution_count": 19,
     "metadata": {},
     "output_type": "execute_result"
    }
   ],
   "source": [
    "tr_df.describe()"
   ]
  },
  {
   "cell_type": "code",
   "execution_count": null,
   "metadata": {},
   "outputs": [],
   "source": []
  }
 ],
 "metadata": {
  "interpreter": {
   "hash": "307a62cccf78bdb33403a88b9d807f43148f9c32eb68088ae7447765e5c8d3ef"
  },
  "kernelspec": {
   "display_name": "Python 3.6.7 64-bit ('3.6.7': pyenv)",
   "name": "python3"
  },
  "language_info": {
   "codemirror_mode": {
    "name": "ipython",
    "version": 3
   },
   "file_extension": ".py",
   "mimetype": "text/x-python",
   "name": "python",
   "nbconvert_exporter": "python",
   "pygments_lexer": "ipython3",
   "version": "3.6.7"
  },
  "orig_nbformat": 4
 },
 "nbformat": 4,
 "nbformat_minor": 2
}